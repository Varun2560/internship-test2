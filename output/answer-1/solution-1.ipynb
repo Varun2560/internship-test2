{
 "cells": [
  {
   "cell_type": "code",
   "execution_count": 5,
   "id": "fc21c83f-228a-4974-b976-4f78e0deef30",
   "metadata": {},
   "outputs": [],
   "source": [
    "import pandas as pd\n",
    "grocery = pd.read_csv(\"main.csv\")\n",
    "grocery.head()\n",
    "grocery.groupby('product_description')['price'].mean()\n",
    "grocery[\"price_new\"] = grocery['price'].fillna(\n",
    "   grocery.groupby('product_description')['price'].transform(\"mean\")\n",
    ")\n",
    "df = pd.DataFrame(grocery)\n",
    "df.to_csv('solution.csv')"
   ]
  },
  {
   "cell_type": "code",
   "execution_count": null,
   "id": "7d102c05-ec4f-4f40-ab0d-404d7d8d52b3",
   "metadata": {},
   "outputs": [],
   "source": []
  }
 ],
 "metadata": {
  "kernelspec": {
   "display_name": "Python 3 (ipykernel)",
   "language": "python",
   "name": "python3"
  },
  "language_info": {
   "codemirror_mode": {
    "name": "ipython",
    "version": 3
   },
   "file_extension": ".py",
   "mimetype": "text/x-python",
   "name": "python",
   "nbconvert_exporter": "python",
   "pygments_lexer": "ipython3",
   "version": "3.9.1"
  }
 },
 "nbformat": 4,
 "nbformat_minor": 5
}
