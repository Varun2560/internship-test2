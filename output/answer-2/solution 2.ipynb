{
 "cells": [
  {
   "cell_type": "code",
   "execution_count": 2,
   "id": "81eb7de4-de22-4394-a0ca-362d3ba683d9",
   "metadata": {},
   "outputs": [],
   "source": [
    "import pandas as pd\n",
    "grocery = pd.read_csv(\"main.csv\")\n",
    "grocery.head()\n",
    "grocery[\"sales_amount\"]= grocery [\"sales_quantity\"].where( \n",
    "    grocery[\"unit\"] != \"pcs\",\n",
    "    grocery[\"product_description\"].str.split(\"-\", expand=True) [1].astype(\"float\") *\\\n",
    "    grocery[\"sales_quantity\"]\n",
    "                                                                         )\n",
    "df = pd.DataFrame(grocery)\n",
    "df.to_csv('solution.csv')"
   ]
  },
  {
   "cell_type": "code",
   "execution_count": null,
   "id": "35e23822-ced7-49b4-8373-2882950e024c",
   "metadata": {},
   "outputs": [],
   "source": []
  }
 ],
 "metadata": {
  "kernelspec": {
   "display_name": "Python 3 (ipykernel)",
   "language": "python",
   "name": "python3"
  },
  "language_info": {
   "codemirror_mode": {
    "name": "ipython",
    "version": 3
   },
   "file_extension": ".py",
   "mimetype": "text/x-python",
   "name": "python",
   "nbconvert_exporter": "python",
   "pygments_lexer": "ipython3",
   "version": "3.9.1"
  }
 },
 "nbformat": 4,
 "nbformat_minor": 5
}
