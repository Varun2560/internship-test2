{
 "cells": [
  {
   "cell_type": "code",
   "execution_count": 4,
   "id": "b9f43e40-11d4-4aff-b9df-88b4d4831e3c",
   "metadata": {},
   "outputs": [],
   "source": [
    "import pandas as pd\n",
    "csvData = pd.read_csv(\"main.csv\")\n",
    "csvData.sort_values([\"Red Cards\"],\n",
    "axis=0,\n",
    "ascending=[False],\n",
    "inplace=True)\n",
    "csvData.sort_values([\"Yellow Cards\"],\n",
    "axis=0,\n",
    "ascending=[False],\n",
    "inplace=True)\n",
    "df=pd.DataFrame(csvData)\n",
    "df.to_csv('solution.csv')\n"
   ]
  },
  {
   "cell_type": "code",
   "execution_count": null,
   "id": "0aea839d-a05f-4aeb-ba44-45c7631a19ba",
   "metadata": {},
   "outputs": [],
   "source": []
  }
 ],
 "metadata": {
  "kernelspec": {
   "display_name": "Python 3 (ipykernel)",
   "language": "python",
   "name": "python3"
  },
  "language_info": {
   "codemirror_mode": {
    "name": "ipython",
    "version": 3
   },
   "file_extension": ".py",
   "mimetype": "text/x-python",
   "name": "python",
   "nbconvert_exporter": "python",
   "pygments_lexer": "ipython3",
   "version": "3.9.1"
  }
 },
 "nbformat": 4,
 "nbformat_minor": 5
}
